{
 "cells": [
  {
   "cell_type": "code",
   "execution_count": 1,
   "metadata": {},
   "outputs": [],
   "source": [
    "import pyodbc\n",
    "\n",
    "server = 'dist-6-505.uopnet.plymouth.ac.uk'\n",
    "database = 'COMP2001_HMoth'\n",
    "username = 'HMoth'\n",
    "password = 'SzcH781+'\n",
    "driver = '{ODBC Driver 17 for SQL Server}'\n",
    "conn_str = (\n",
    "    f'DRIVER={driver};'\n",
    "    f'SERVER={server};'\n",
    "    f'DATABASE={database};'\n",
    "    f'UID={username};'\n",
    "    f'PWD={password};'\n",
    "    'Encrypt=Yes;'\n",
    "    'TrustServerCertificate=Yes;'\n",
    "    'Connection Timeout=30;'\n",
    "    'Trusted_Connection=No'\n",
    ")\n",
    "\n",
    "conn = pyodbc.connect(conn_str)\n",
    "cursor = conn.cursor()"
   ]
  },
  {
   "cell_type": "code",
   "execution_count": 2,
   "metadata": {},
   "outputs": [
    {
     "data": {
      "text/plain": [
       "(None,)"
      ]
     },
     "execution_count": 2,
     "metadata": {},
     "output_type": "execute_result"
    }
   ],
   "source": [
    "cursor.execute(''' CREATE SCHEMA CW2'''),\n",
    "conn.commit(),"
   ]
  },
  {
   "cell_type": "code",
   "execution_count": 31,
   "metadata": {},
   "outputs": [],
   "source": [
    "cursor.execute('''\n",
    "CREATE TABLE CW2.[User] (\n",
    "    User_ID INT IDENTITY(1,1) PRIMARY KEY,\n",
    "    Username VARCHAR(50) NOT NULL,\n",
    "    [Password] VARCHAR(50) NOT NULL,\n",
    "    Email VARCHAR(50) NOT NULL,\n",
    "    Role VARCHAR(50) NOT NULL,\n",
    "    \n",
    "    CHECK (Role IN ('Admin', 'User')),\n",
    "    CHECK (Email LIKE '%_@_%._%')\n",
    ")\n",
    "''')\n",
    "conn.commit()\n",
    "\n",
    "\n",
    "\n",
    "\n"
   ]
  },
  {
   "cell_type": "code",
   "execution_count": 29,
   "metadata": {},
   "outputs": [],
   "source": [
    "cursor.execute('''DROP TABLE CW2.[User]''')\n",
    "conn.commit()"
   ]
  },
  {
   "cell_type": "code",
   "execution_count": 39,
   "metadata": {},
   "outputs": [],
   "source": [
    "cursor.execute('''\n",
    "CREATE TABLE CW2.Trail (\n",
    "    Trail_ID INT IDENTITY(1,1) PRIMARY KEY,\n",
    "    TrailName VARCHAR(50) NOT NULL,\n",
    "    Length FLOAT NOT NULL,\n",
    "    Difficulty VARCHAR(50) NOT NULL,\n",
    "    TrailDescription VARCHAR(500) NOT NULL,\n",
    "    Location VARCHAR(500) NOT NULL,\n",
    "    RouteType VARCHAR(500) NOT NULL,\n",
    "    ElevationGain INT NOT NULL,\n",
    "    OwnerID INT NOT NULL,\n",
    "    PT1_Lat FLOAT NOT NULL,\n",
    "    PT1_Long FLOAT NOT NULL,\n",
    "    PT1_Desc VARCHAR(500) NOT NULL,\n",
    "    PT2_Lat FLOAT NOT NULL,\n",
    "    PT2_Long FLOAT NOT NULL,\n",
    "    PT2_Desc VARCHAR(500) NOT NULL,\n",
    "    CONSTRAINT fk_OwnerID FOREIGN KEY (OwnerID) REFERENCES CW2.[User](User_ID),\n",
    "    \n",
    "    CHECK (RouteType IN ('Loop', 'Out and Back', 'Point to Point')),\n",
    "    CHECK (Difficulty IN ('Easy', 'Moderate', 'Hard')),\n",
    "    CHECK (Length > 0),\n",
    "    CHECK (ElevationGain > 0),\n",
    "    CHECK (PT1_Lat BETWEEN -90 AND 90),\n",
    "    CHECK (PT1_Long BETWEEN -180 AND 180),\n",
    "    CHECK (PT2_Lat BETWEEN -90 AND 90),\n",
    "    CHECK (PT2_Long BETWEEN -180 AND 180)\n",
    ");\n",
    "''')\n",
    "conn.commit()"
   ]
  },
  {
   "cell_type": "code",
   "execution_count": 41,
   "metadata": {},
   "outputs": [
    {
     "name": "stdout",
     "output_type": "stream",
     "text": [
      "(1, 'Mountain Ridge Trail', 5.5, 'Moderate', 'A scenic trail with panoramic views of the mountains, some steep inclines.', 'Rocky Mountains, Colorado', 'Loop', 1200, 1, 39.7392, -105.1059, 'Trailhead near the parking lot', 39.7521, -105.1305, 'Summit with a great view')\n",
      "(2, 'Sunset Cliff Walk', 2.2, 'Easy', 'A short, easy trail along the cliff with beautiful ocean views during sunset.', 'San Diego, California', 'Out and Back', 250, 2, 32.7157, -117.1692, 'Starting point by the beach', 32.719, -117.1625, 'Cliffside lookout point')\n",
      "(3, 'Forest Loop', 8.0, 'Hard', 'A challenging trail through dense forest with elevation changes and rocky paths.', 'Olympic National Park, Washington', 'Loop', 1500, 3, 47.6062, -123.2877, 'Trailhead at the park entrance', 47.64, -123.2834, 'Ridge overlook with forest views')\n",
      "(4, 'Lakeview Trail', 4.5, 'Moderate', 'This trail takes you around a pristine lake with views of the surrounding forest and mountains.', 'Yellowstone, Wyoming', 'Point to Point', 800, 2, 44.4237, -110.5885, 'Trail begins at the south shore', 44.4489, -110.5821, 'Ends at the northern shore with a view of the mountains')\n",
      "(5, 'Desert Oasis Trail', 6.7, 'Hard', 'A difficult desert trail with steep climbs, rocky terrain, and an oasis at the end.', 'Joshua Tree, California', 'Out and Back', 2000, 3, 33.8734, -116.6163, 'Start at the park entrance', 33.9115, -116.593, 'Oasis with a small pond')\n",
      "(6, 'River Bend Trail', 3.0, 'Easy', 'An easy walk along the river, ideal for beginners or families.', 'Great Smoky Mountains, Tennessee', 'Loop', 500, 1, 35.676, -83.535, 'Begin at the bridge crossing', 35.6925, -83.52, 'End at the scenic river overlook')\n"
     ]
    }
   ],
   "source": [
    "cursor.execute(\"SELECT * FROM CW2.Trail\")\n",
    "\n",
    "trail = cursor.fetchall()\n",
    "for trails in trail:\n",
    "    print(trails)"
   ]
  },
  {
   "cell_type": "code",
   "execution_count": 40,
   "metadata": {},
   "outputs": [],
   "source": [
    "cursor.execute('''\n",
    "\n",
    "INSERT INTO CW2.Trail (\n",
    "    TrailName, Length, Difficulty, TrailDescription, Location, RouteType, ElevationGain, OwnerID, \n",
    "    PT1_Lat, PT1_Long, PT1_Desc, PT2_Lat, PT2_Long, PT2_Desc\n",
    ")\n",
    "VALUES\n",
    "('Mountain Ridge Trail', 5.5, 'Moderate', 'A scenic trail with panoramic views of the mountains, some steep inclines.', 'Rocky Mountains, Colorado', 'Loop', 1200, 1, \n",
    " 39.7392, -105.1059, 'Trailhead near the parking lot', 39.7521, -105.1305, 'Summit with a great view'),\n",
    " \n",
    "('Sunset Cliff Walk', 2.2, 'Easy', 'A short, easy trail along the cliff with beautiful ocean views during sunset.', 'San Diego, California', 'Out and Back', 250, 2, \n",
    " 32.7157, -117.1692, 'Starting point by the beach', 32.7190, -117.1625, 'Cliffside lookout point'),\n",
    "\n",
    "('Forest Loop', 8.0, 'Hard', 'A challenging trail through dense forest with elevation changes and rocky paths.', 'Olympic National Park, Washington', 'Loop', 1500, 3, \n",
    " 47.6062, -123.2877, 'Trailhead at the park entrance', 47.6400, -123.2834, 'Ridge overlook with forest views'),\n",
    "\n",
    "('Lakeview Trail', 4.5, 'Moderate', 'This trail takes you around a pristine lake with views of the surrounding forest and mountains.', 'Yellowstone, Wyoming', 'Point to Point', 800, 2, \n",
    " 44.4237, -110.5885, 'Trail begins at the south shore', 44.4489, -110.5821, 'Ends at the northern shore with a view of the mountains'),\n",
    "\n",
    "('Desert Oasis Trail', 6.7, 'Hard', 'A difficult desert trail with steep climbs, rocky terrain, and an oasis at the end.', 'Joshua Tree, California', 'Out and Back', 2000, 3, \n",
    " 33.8734, -116.6163, 'Start at the park entrance', 33.9115, -116.5930, 'Oasis with a small pond'),\n",
    "\n",
    "('River Bend Trail', 3.0, 'Easy', 'An easy walk along the river, ideal for beginners or families.', 'Great Smoky Mountains, Tennessee', 'Loop', 500, 1, \n",
    " 35.6760, -83.5350, 'Begin at the bridge crossing', 35.6925, -83.5200, 'End at the scenic river overlook');\n",
    "''')\n",
    "conn.commit()"
   ]
  },
  {
   "cell_type": "code",
   "execution_count": 28,
   "metadata": {},
   "outputs": [],
   "source": [
    "cursor.execute(''' \n",
    "DROP TABLE CW2.Trail\n",
    "\n",
    "''')\n",
    "conn.commit()"
   ]
  },
  {
   "cell_type": "code",
   "execution_count": 7,
   "metadata": {},
   "outputs": [],
   "source": [
    "cursor.execute(''' \n",
    "CREATE TABLE CW2.Feature(\n",
    "    FeatureID INT IDENTITY(1,1) PRIMARY KEY,\n",
    "    FeatureName VARCHAR(50) NOT NULL\n",
    ")\n",
    "''')\n",
    "conn.commit()\n"
   ]
  },
  {
   "cell_type": "code",
   "execution_count": 17,
   "metadata": {},
   "outputs": [],
   "source": [
    "cursor.execute(''' \n",
    "    INSERT INTO CW2.Feature(FeatureName)\n",
    "    VALUES\n",
    "    ('Waterfall'),\n",
    "    ('Cave'),\n",
    "    ('Wildlife'),\n",
    "    ('Scenic View'),\n",
    "    ('Historical Site'),\n",
    "    ('Creek'),\n",
    "    ('Rock Formation'),\n",
    "    ('Meadow'),\n",
    "    ('Forest')\n",
    "\n",
    "\n",
    "\n",
    "''')\n",
    "conn.commit()"
   ]
  },
  {
   "cell_type": "code",
   "execution_count": 42,
   "metadata": {},
   "outputs": [],
   "source": [
    "cursor.execute(''' \n",
    "CREATE TABLE CW2.TrailFeature(\n",
    "    TrailID INT NOT NULL,\n",
    "    TrailFeatureID INT NOT NULL,\n",
    "    CONSTRAINT fk_TrailID FOREIGN KEY (TrailID) REFERENCES CW2.Trail(Trail_ID),\n",
    "    CONSTRAINT fk_TrailFeatureID FOREIGN KEY (TrailFeatureID) REFERENCES CW2.Feature(FeatureID)\n",
    ")\n",
    "''')\n",
    "conn.commit()\n"
   ]
  },
  {
   "cell_type": "code",
   "execution_count": 27,
   "metadata": {},
   "outputs": [],
   "source": [
    "cursor.execute(''' \n",
    "DROP TABLE CW2.TrailFeature\n",
    "\n",
    "''')\n",
    "conn.commit()"
   ]
  },
  {
   "cell_type": "code",
   "execution_count": 43,
   "metadata": {},
   "outputs": [],
   "source": [
    "cursor.execute(''' \n",
    "INSERT INTO CW2.TrailFeature(TrailID, TrailFeatureID)\n",
    "VALUES\n",
    "(1, 4),\n",
    "(1, 7),\n",
    "(2, 4),\n",
    "(2, 8),\n",
    "(3, 9),\n",
    "(3, 7),\n",
    "(4, 1),\n",
    "(4, 4),\n",
    "(5, 1),\n",
    "(5, 2),\n",
    "(6, 3),\n",
    "(6, 7)\n",
    "''')\n",
    "conn.commit()"
   ]
  },
  {
   "cell_type": "code",
   "execution_count": 32,
   "metadata": {},
   "outputs": [],
   "source": [
    "cursor.execute('''\n",
    "INSERT INTO CW2.[User] (Username, Email, [Password], Role)\n",
    "VALUES ('Grace Hopper', 'grace@plymouth.ac.uk', 'ISAD123!', 'User'),\n",
    "('Tim Berners-Lee', 'tim@plymouth.ac.uk', 'COMP2001!', 'User'),\n",
    "('Ada Lovelace', 'ada@plymouth.ac.uk', 'insecurePassword', 'User')\n",
    "\n",
    "''')\n",
    "conn.commit()"
   ]
  }
 ],
 "metadata": {
  "kernelspec": {
   "display_name": "Python 3",
   "language": "python",
   "name": "python3"
  },
  "language_info": {
   "codemirror_mode": {
    "name": "ipython",
    "version": 3
   },
   "file_extension": ".py",
   "mimetype": "text/x-python",
   "name": "python",
   "nbconvert_exporter": "python",
   "pygments_lexer": "ipython3",
   "version": "3.10.11"
  }
 },
 "nbformat": 4,
 "nbformat_minor": 2
}
