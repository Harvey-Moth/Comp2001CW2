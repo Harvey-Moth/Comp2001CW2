{
 "cells": [
  {
   "cell_type": "code",
   "execution_count": 39,
   "metadata": {},
   "outputs": [],
   "source": [
    "import pyodbc\n",
    "\n",
    "server = 'dist-6-505.uopnet.plymouth.ac.uk'\n",
    "database = 'COMP2001_HMoth'\n",
    "username = 'HMoth'\n",
    "password = 'SzcH781+'\n",
    "driver = '{ODBC Driver 17 for SQL Server}'\n",
    "conn_str = (\n",
    "    f'DRIVER={driver};'\n",
    "    f'SERVER={server};'\n",
    "    f'DATABASE={database};'\n",
    "    f'UID={username};'\n",
    "    f'PWD={password};'\n",
    "    'Encrypt=Yes;'\n",
    "    'TrustServerCertificate=Yes;'\n",
    "    'Connection Timeout=30;'\n",
    "    'Trusted_Connection=No'\n",
    ")\n",
    "\n",
    "conn = pyodbc.connect(conn_str)\n",
    "cursor = conn.cursor()"
   ]
  },
  {
   "cell_type": "code",
   "execution_count": 2,
   "metadata": {},
   "outputs": [
    {
     "data": {
      "text/plain": [
       "(None,)"
      ]
     },
     "execution_count": 2,
     "metadata": {},
     "output_type": "execute_result"
    }
   ],
   "source": [
    "cursor.execute(''' CREATE SCHEMA CW2'''),\n",
    "conn.commit(),"
   ]
  },
  {
   "cell_type": "code",
   "execution_count": 26,
   "metadata": {},
   "outputs": [],
   "source": [
    "cursor.execute('''\n",
    "CREATE TABLE CW2.[User] (\n",
    "    UserID INT IDENTITY(1,1) PRIMARY KEY,\n",
    "    Username VARCHAR(50) NOT NULL,\n",
    "    [Password] VARCHAR(50) NOT NULL,\n",
    "    Email VARCHAR(50) NOT NULL,\n",
    "    Role VARCHAR(50) NOT NULL,\n",
    "    \n",
    "    CHECK (Role IN ('Admin', 'User')),\n",
    "    CHECK (Email LIKE '%_@_%._%')\n",
    ")\n",
    "''')\n",
    "conn.commit()\n",
    "\n",
    "\n",
    "\n",
    "\n"
   ]
  },
  {
   "cell_type": "code",
   "execution_count": 27,
   "metadata": {},
   "outputs": [],
   "source": [
    "cursor.execute('''\n",
    "INSERT INTO CW2.[User] (Username, Email, [Password], Role)\n",
    "VALUES\n",
    "('Harvey Moth', 'Harvey@plymouth.ac.uk', 'Adminpass', 'Admin'),\n",
    "('Grace Hopper', 'grace@plymouth.ac.uk', 'ISAD123!', 'User'),\n",
    "('Tim Berners-Lee', 'tim@plymouth.ac.uk', 'COMP2001!', 'User'),\n",
    "('Ada Lovelace', 'ada@plymouth.ac.uk', 'insecurePassword', 'User')\n",
    "\n",
    "''')\n",
    "conn.commit()"
   ]
  },
  {
   "cell_type": "code",
   "execution_count": 40,
   "metadata": {},
   "outputs": [
    {
     "name": "stdout",
     "output_type": "stream",
     "text": [
      "(1, 'Harvey Moth', 'Adminpass', 'Harvey@plymouth.ac.uk', 'Admin')\n",
      "(2, 'Grace Hopper', 'ISAD123!', 'grace@plymouth.ac.uk', 'User')\n",
      "(3, 'Tim Berners-Lee', 'COMP2001!', 'tim@plymouth.ac.uk', 'User')\n",
      "(4, 'Ada Lovelace', 'insecurePassword', 'ada@plymouth.ac.uk', 'User')\n"
     ]
    }
   ],
   "source": [
    "cursor.execute(\"SELECT * FROM CW2.[User]\")\n",
    "\n",
    "user = cursor.fetchall()\n",
    "for person in user:\n",
    "    print(person)\n",
    "conn.commit()"
   ]
  },
  {
   "cell_type": "code",
   "execution_count": 29,
   "metadata": {},
   "outputs": [],
   "source": [
    "cursor.execute('''\n",
    "CREATE TABLE CW2.Trail (\n",
    "    TrailID INT IDENTITY(1,1) PRIMARY KEY,\n",
    "    TrailName VARCHAR(50) NOT NULL,\n",
    "    Length FLOAT NOT NULL,\n",
    "    Difficulty VARCHAR(50) NOT NULL,\n",
    "    TrailDescription VARCHAR(500) NOT NULL,\n",
    "    TrailSummary VARCHAR(500) NOT NULL,\n",
    "    Location VARCHAR(500) NOT NULL,\n",
    "    RouteType VARCHAR(500) NOT NULL,\n",
    "    ElevationGain INT NOT NULL,\n",
    "    OwnerID INT NOT NULL,\n",
    "    PT1_Lat FLOAT NOT NULL,\n",
    "    PT1_Long FLOAT NOT NULL,\n",
    "    PT1_Desc VARCHAR(500) NOT NULL,\n",
    "    PT2_Lat FLOAT NOT NULL,\n",
    "    PT2_Long FLOAT NOT NULL,\n",
    "    PT2_Desc VARCHAR(500) NOT NULL,\n",
    "    PT3_Lat FLOAT NOT NULL,\n",
    "    PT3_Long FLOAT NOT NULL,\n",
    "    PT3_Desc VARCHAR(500) NOT NULL,\n",
    "    PT4_Lat FLOAT NOT NULL,\n",
    "    PT4_Long FLOAT NOT NULL,\n",
    "    PT4_Desc VARCHAR(500) NOT NULL,\n",
    "    PT5_Lat FLOAT NOT NULL,\n",
    "    PT5_Long FLOAT NOT NULL,\n",
    "    PT5_Desc VARCHAR(500) NOT NULL,\n",
    "    CONSTRAINT fk_OwnerID FOREIGN KEY (OwnerID) REFERENCES CW2.[User](UserID),\n",
    "    \n",
    "    CHECK (RouteType IN ('Loop', 'Out and Back', 'Point to Point')),\n",
    "    CHECK (Difficulty IN ('Easy', 'Moderate', 'Hard')),\n",
    "    CHECK (Length > 0),\n",
    "    CHECK (ElevationGain > 0),\n",
    "    CHECK (PT1_Lat BETWEEN -90 AND 90),\n",
    "    CHECK (PT1_Long BETWEEN -180 AND 180),\n",
    "    CHECK (PT2_Lat BETWEEN -90 AND 90),\n",
    "    CHECK (PT2_Long BETWEEN -180 AND 180),\n",
    "    CHECK (PT3_Lat BETWEEN -90 AND 90),\n",
    "    CHECK (PT3_Long BETWEEN -180 AND 180),\n",
    "    CHECK (PT4_Lat BETWEEN -90 AND 90),\n",
    "    CHECK (PT4_Long BETWEEN -180 AND 180),\n",
    "    CHECK (PT5_Lat BETWEEN -90 AND 90),\n",
    "    CHECK (PT5_Long BETWEEN -180 AND 180)\n",
    ");\n",
    "''')\n",
    "conn.commit()"
   ]
  },
  {
   "cell_type": "code",
   "execution_count": 30,
   "metadata": {},
   "outputs": [],
   "source": [
    "cursor.execute('''\n",
    "INSERT INTO CW2.Trail (\n",
    "    TrailName, Length, Difficulty, TrailDescription, TrailSummary, Location, RouteType, ElevationGain, OwnerID, \n",
    "    PT1_Lat, PT1_Long, PT1_Desc, PT2_Lat, PT2_Long, PT2_Desc, \n",
    "    PT3_Lat, PT3_Long, PT3_Desc, PT4_Lat, PT4_Long, PT4_Desc, \n",
    "    PT5_Lat, PT5_Long, PT5_Desc\n",
    ") VALUES\n",
    "('Sunrise Loop', 5.4, 'Moderate', 'A scenic loop trail offering sunrise views.', \n",
    " 'Ideal for early risers looking for a moderate hike.', 'Rocky Mountain National Park', 'Loop', 850, 1, \n",
    " 40.3428, -105.6836, 'Trailhead near parking area.', \n",
    " 40.3501, -105.6783, 'Viewpoint overlooking valley.', \n",
    " 40.3572, -105.6719, 'Meadow with wildflowers.', \n",
    " 40.3486, -105.6764, 'Stream crossing.', \n",
    " 40.3428, -105.6836, 'End of the loop.'),\n",
    "\n",
    "('Eagle Point Trail', 7.2, 'Hard', 'A challenging trail leading to Eagle Point summit.', \n",
    " 'Steep ascent but rewarding views at the top.', 'Yosemite National Park', 'Out and Back', 2000, 2, \n",
    " 37.7483, -119.5876, 'Trailhead at the visitor center.', \n",
    " 37.7551, -119.5894, 'Forest area with diverse flora.', \n",
    " 37.7604, -119.5912, 'Steep incline section.', \n",
    " 37.7668, -119.5947, 'Rocky terrain before summit.', \n",
    " 37.7703, -119.5962, 'Eagle Point summit.'),\n",
    "\n",
    "('Lake Serenity Path', 3.1, 'Easy', 'A flat trail around the serene Lake Serenity.', \n",
    " 'Perfect for families and beginners.', 'Blue Ridge Mountains', 'Loop', 200, 3, \n",
    " 35.5964, -82.5569, 'Trailhead near parking lot.', \n",
    " 35.5983, -82.5551, 'Picnic area with lake view.', \n",
    " 35.6004, -82.5536, 'Fishing spot.', \n",
    " 35.5971, -82.5522, 'Wooded area with benches.', \n",
    " 35.5964, -82.5569, 'Return to trailhead.'),\n",
    "\n",
    "('Pine Forest Walk', 6.8, 'Moderate', 'A peaceful walk through dense pine forests.', \n",
    " 'Shady and cool even during summer.', 'Great Smoky Mountains', 'Point to Point', 500, 2, \n",
    " 35.6234, -83.4501, 'Start of trail at ranger station.', \n",
    " 35.6298, -83.4476, 'Old cabin ruins.', \n",
    " 35.6352, -83.4448, 'Stream crossing with small bridge.', \n",
    " 35.6417, -83.4421, 'Clearing with picnic tables.', \n",
    " 35.6473, -83.4395, 'End of trail at forest edge.'),\n",
    "\n",
    "('Mountain Ridge Adventure', 10.0, 'Hard', 'An adventurous trek along a mountain ridge.', \n",
    " 'Breathtaking views but requires good fitness.', 'Appalachian Mountains', 'Out and Back', 3200, 3, \n",
    " 36.6109, -81.6828, 'Trailhead at base camp.', \n",
    " 36.6201, -81.6754, 'Rocky incline section.', \n",
    " 36.6278, -81.6693, 'Scenic viewpoint.', \n",
    " 36.6359, -81.6632, 'Ridge walk with steep drop-offs.', \n",
    " 36.6427, -81.6574, 'End of trail at summit.');\n",
    "''')\n",
    "conn.commit()\n"
   ]
  },
  {
   "cell_type": "code",
   "execution_count": 41,
   "metadata": {},
   "outputs": [
    {
     "name": "stdout",
     "output_type": "stream",
     "text": [
      "(1, 'Sunrise Loop', 5.4, 'Moderate', 'A scenic loop trail offering sunrise views.', 'Ideal for early risers looking for a moderate hike.', 'Rocky Mountain National Park', 'Loop', 850, 1, 40.3428, -105.6836, 'Trailhead near parking area.', 40.3501, -105.6783, 'Viewpoint overlooking valley.', 40.3572, -105.6719, 'Meadow with wildflowers.', 40.3486, -105.6764, 'Stream crossing.', 40.3428, -105.6836, 'End of the loop.')\n",
      "(2, 'Eagle Point Trail', 7.2, 'Hard', 'A challenging trail leading to Eagle Point summit.', 'Steep ascent but rewarding views at the top.', 'Yosemite National Park', 'Out and Back', 2000, 2, 37.7483, -119.5876, 'Trailhead at the visitor center.', 37.7551, -119.5894, 'Forest area with diverse flora.', 37.7604, -119.5912, 'Steep incline section.', 37.7668, -119.5947, 'Rocky terrain before summit.', 37.7703, -119.5962, 'Eagle Point summit.')\n",
      "(3, 'Lake Serenity Path', 3.1, 'Easy', 'A flat trail around the serene Lake Serenity.', 'Perfect for families and beginners.', 'Blue Ridge Mountains', 'Loop', 200, 3, 35.5964, -82.5569, 'Trailhead near parking lot.', 35.5983, -82.5551, 'Picnic area with lake view.', 35.6004, -82.5536, 'Fishing spot.', 35.5971, -82.5522, 'Wooded area with benches.', 35.5964, -82.5569, 'Return to trailhead.')\n",
      "(4, 'Pine Forest Walk', 6.8, 'Moderate', 'A peaceful walk through dense pine forests.', 'Shady and cool even during summer.', 'Great Smoky Mountains', 'Point to Point', 500, 2, 35.6234, -83.4501, 'Start of trail at ranger station.', 35.6298, -83.4476, 'Old cabin ruins.', 35.6352, -83.4448, 'Stream crossing with small bridge.', 35.6417, -83.4421, 'Clearing with picnic tables.', 35.6473, -83.4395, 'End of trail at forest edge.')\n",
      "(5, 'Mountain Ridge Adventure', 10.0, 'Hard', 'An adventurous trek along a mountain ridge.', 'Breathtaking views but requires good fitness.', 'Appalachian Mountains', 'Out and Back', 3200, 3, 36.6109, -81.6828, 'Trailhead at base camp.', 36.6201, -81.6754, 'Rocky incline section.', 36.6278, -81.6693, 'Scenic viewpoint.', 36.6359, -81.6632, 'Ridge walk with steep drop-offs.', 36.6427, -81.6574, 'End of trail at summit.')\n"
     ]
    }
   ],
   "source": [
    "cursor.execute(\"SELECT * FROM CW2.Trail\")\n",
    "\n",
    "trail = cursor.fetchall()\n",
    "for trails in trail:\n",
    "    print(trails)"
   ]
  },
  {
   "cell_type": "code",
   "execution_count": 32,
   "metadata": {},
   "outputs": [],
   "source": [
    "cursor.execute(''' \n",
    "CREATE TABLE CW2.Feature(\n",
    "    FeatureID INT IDENTITY(1,1) PRIMARY KEY,\n",
    "    FeatureName VARCHAR(50) NOT NULL\n",
    ")\n",
    "''')\n",
    "conn.commit()\n"
   ]
  },
  {
   "cell_type": "code",
   "execution_count": 33,
   "metadata": {},
   "outputs": [],
   "source": [
    "cursor.execute(''' \n",
    "    INSERT INTO CW2.Feature(FeatureName)\n",
    "    VALUES\n",
    "    ('Waterfall'),\n",
    "    ('Cave'),\n",
    "    ('Wildlife'),\n",
    "    ('Scenic View'),\n",
    "    ('Historical Site'),\n",
    "    ('Creek'),\n",
    "    ('Rock Formation'),\n",
    "    ('Meadow'),\n",
    "    ('Forest')\n",
    "\n",
    "\n",
    "\n",
    "''')\n",
    "conn.commit()"
   ]
  },
  {
   "cell_type": "code",
   "execution_count": 42,
   "metadata": {},
   "outputs": [
    {
     "name": "stdout",
     "output_type": "stream",
     "text": [
      "(1, 'Waterfall')\n",
      "(2, 'Cave')\n",
      "(3, 'Wildlife')\n",
      "(4, 'Scenic View')\n",
      "(5, 'Historical Site')\n",
      "(6, 'Creek')\n",
      "(7, 'Rock Formation')\n",
      "(8, 'Meadow')\n",
      "(9, 'Forest')\n"
     ]
    }
   ],
   "source": [
    "cursor.execute(\"SELECT * FROM CW2.feature\")\n",
    "\n",
    "feature = cursor.fetchall()\n",
    "for features in feature:\n",
    "    print(features)\n"
   ]
  },
  {
   "cell_type": "code",
   "execution_count": 35,
   "metadata": {},
   "outputs": [],
   "source": [
    "cursor.execute(''' \n",
    "CREATE TABLE CW2.TrailFeature(\n",
    "    TrailID INT NOT NULL,\n",
    "    TrailFeatureID INT NOT NULL,\n",
    "    CONSTRAINT fk_TrailID FOREIGN KEY (TrailID) REFERENCES CW2.Trail(TrailID),\n",
    "    CONSTRAINT fk_TrailFeatureID FOREIGN KEY (TrailFeatureID) REFERENCES CW2.Feature(FeatureID)\n",
    ")\n",
    "''')\n",
    "conn.commit()\n"
   ]
  },
  {
   "cell_type": "code",
   "execution_count": 36,
   "metadata": {},
   "outputs": [],
   "source": [
    "cursor.execute(''' \n",
    "INSERT INTO CW2.TrailFeature(TrailID, TrailFeatureID)\n",
    "VALUES\n",
    "(1, 4),\n",
    "(1, 7),\n",
    "(2, 4),\n",
    "(2, 8),\n",
    "(3, 9),\n",
    "(3, 7),\n",
    "(4, 1),\n",
    "(4, 4),\n",
    "(5, 1),\n",
    "(5, 2),\n",
    "(4, 3),\n",
    "(5, 7)\n",
    "''')\n",
    "conn.commit()"
   ]
  },
  {
   "cell_type": "code",
   "execution_count": 43,
   "metadata": {},
   "outputs": [
    {
     "name": "stdout",
     "output_type": "stream",
     "text": [
      "(1, 4)\n",
      "(1, 7)\n",
      "(2, 4)\n",
      "(2, 8)\n",
      "(3, 9)\n",
      "(3, 7)\n",
      "(4, 1)\n",
      "(4, 4)\n",
      "(5, 1)\n",
      "(5, 2)\n",
      "(4, 3)\n",
      "(5, 7)\n"
     ]
    }
   ],
   "source": [
    "cursor.execute(\"SELECT * FROM CW2.TrailFeature\")\n",
    "\n",
    "TrailFeature = cursor.fetchall()\n",
    "for Trailfeature in TrailFeature:\n",
    "    print(Trailfeature)\n"
   ]
  },
  {
   "cell_type": "code",
   "execution_count": 22,
   "metadata": {},
   "outputs": [],
   "source": [
    "cursor.execute(''' \n",
    "DROP TABLE CW2.TrailFeature\n",
    "\n",
    "''')\n",
    "conn.commit()"
   ]
  },
  {
   "cell_type": "code",
   "execution_count": 23,
   "metadata": {},
   "outputs": [],
   "source": [
    "cursor.execute(''' \n",
    "DROP TABLE CW2.Trail\n",
    "\n",
    "''')\n",
    "conn.commit()"
   ]
  },
  {
   "cell_type": "code",
   "execution_count": 24,
   "metadata": {},
   "outputs": [],
   "source": [
    "cursor.execute(''' \n",
    "DROP TABLE CW2.[User]\n",
    "\n",
    "''')\n",
    "conn.commit()"
   ]
  },
  {
   "cell_type": "code",
   "execution_count": 25,
   "metadata": {},
   "outputs": [],
   "source": [
    "cursor.execute(''' \n",
    "DROP TABLE CW2.Feature\n",
    "\n",
    "''')\n",
    "conn.commit()"
   ]
  }
 ],
 "metadata": {
  "kernelspec": {
   "display_name": "Python 3",
   "language": "python",
   "name": "python3"
  },
  "language_info": {
   "codemirror_mode": {
    "name": "ipython",
    "version": 3
   },
   "file_extension": ".py",
   "mimetype": "text/x-python",
   "name": "python",
   "nbconvert_exporter": "python",
   "pygments_lexer": "ipython3",
   "version": "3.10.11"
  }
 },
 "nbformat": 4,
 "nbformat_minor": 2
}
