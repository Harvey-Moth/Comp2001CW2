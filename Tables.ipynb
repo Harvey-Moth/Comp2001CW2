{
 "cells": [
  {
   "cell_type": "code",
   "execution_count": 3,
   "metadata": {},
   "outputs": [],
   "source": [
    "import pyodbc\n",
    "\n",
    "server = 'dist-6-505.uopnet.plymouth.ac.uk'\n",
    "database = 'COMP2001_HMoth'\n",
    "username = 'HMoth'\n",
    "password = 'SzcH781+'\n",
    "driver = '{ODBC Driver 17 for SQL Server}'\n",
    "conn_str = (\n",
    "    f'DRIVER={driver};'\n",
    "    f'SERVER={server};'\n",
    "    f'DATABASE={database};'\n",
    "    f'UID={username};'\n",
    "    f'PWD={password};'\n",
    "    'Encrypt=Yes;'\n",
    "    'TrustServerCertificate=Yes;'\n",
    "    'Connection Timeout=30;'\n",
    "    'Trusted_Connection=No'\n",
    ")\n",
    "\n",
    "conn = pyodbc.connect(conn_str)\n",
    "cursor = conn.cursor()"
   ]
  },
  {
   "cell_type": "code",
   "execution_count": 2,
   "metadata": {},
   "outputs": [
    {
     "data": {
      "text/plain": [
       "(None,)"
      ]
     },
     "execution_count": 2,
     "metadata": {},
     "output_type": "execute_result"
    }
   ],
   "source": [
    "cursor.execute(''' CREATE SCHEMA CW2'''),\n",
    "conn.commit(),"
   ]
  },
  {
   "cell_type": "code",
   "execution_count": 42,
   "metadata": {},
   "outputs": [],
   "source": [
    "cursor.execute('''\n",
    "CREATE TABLE CW2.[User] (\n",
    "    UserID INT IDENTITY(1,1) PRIMARY KEY,\n",
    "    Username VARCHAR(50) NOT NULL,\n",
    "    [Password] VARCHAR(50) NOT NULL,\n",
    "    Email VARCHAR(50) NOT NULL,\n",
    "    Role VARCHAR(50) NOT NULL,\n",
    "    \n",
    "    CHECK (Role IN ('Admin', 'User')),\n",
    "    CHECK (Email LIKE '%_@_%._%')\n",
    ")\n",
    "''')\n",
    "conn.commit()\n",
    "\n",
    "\n",
    "\n",
    "\n"
   ]
  },
  {
   "cell_type": "code",
   "execution_count": 57,
   "metadata": {},
   "outputs": [
    {
     "name": "stdout",
     "output_type": "stream",
     "text": [
      "(1, 'Grace Hopper', 'ISAD123!', 'grace@plymouth.ac.uk', 'User')\n",
      "(2, 'Tim Berners-Lee', 'COMP2001!', 'tim@plymouth.ac.uk', 'User')\n",
      "(3, 'Update Test', 'Test123', 'test@test.ac.uk', 'User')\n"
     ]
    }
   ],
   "source": [
    "cursor.execute(\"SELECT * FROM CW2.[User]\")\n",
    "\n",
    "user = cursor.fetchall()\n",
    "for person in user:\n",
    "    print(person)\n"
   ]
  },
  {
   "cell_type": "code",
   "execution_count": 43,
   "metadata": {},
   "outputs": [],
   "source": [
    "cursor.execute('''\n",
    "INSERT INTO CW2.[User] (Username, Email, [Password], Role)\n",
    "VALUES ('Grace Hopper', 'grace@plymouth.ac.uk', 'ISAD123!', 'User'),\n",
    "('Tim Berners-Lee', 'tim@plymouth.ac.uk', 'COMP2001!', 'User'),\n",
    "('Ada Lovelace', 'ada@plymouth.ac.uk', 'insecurePassword', 'User')\n",
    "\n",
    "''')\n",
    "conn.commit()"
   ]
  },
  {
   "cell_type": "code",
   "execution_count": 54,
   "metadata": {},
   "outputs": [],
   "source": [
    "cursor.execute('''\n",
    "INSERT INTO CW2.[User] (Username, Email, [Password], Role)\n",
    "VALUES ('Harvey Moth', 'harvey@plymouth.ac.uk', 'passvord', 'User')\n",
    "\n",
    "''')\n",
    "conn.commit()"
   ]
  },
  {
   "cell_type": "code",
   "execution_count": 49,
   "metadata": {},
   "outputs": [],
   "source": [
    "cursor.execute('''\n",
    "CREATE TABLE CW2.Trail (\n",
    "    TrailID INT IDENTITY(1,1) PRIMARY KEY,\n",
    "    TrailName VARCHAR(50) NOT NULL,\n",
    "    Length FLOAT NOT NULL,\n",
    "    Difficulty VARCHAR(50) NOT NULL,\n",
    "    TrailDescription VARCHAR(500) NOT NULL,\n",
    "    TrailSummary VARCHAR(500) NOT NULL,\n",
    "    Location VARCHAR(500) NOT NULL,\n",
    "    RouteType VARCHAR(500) NOT NULL,\n",
    "    ElevationGain INT NOT NULL,\n",
    "    OwnerID INT NOT NULL,\n",
    "    PT1_Lat FLOAT NOT NULL,\n",
    "    PT1_Long FLOAT NOT NULL,\n",
    "    PT1_Desc VARCHAR(500) NOT NULL,\n",
    "    PT2_Lat FLOAT NOT NULL,\n",
    "    PT2_Long FLOAT NOT NULL,\n",
    "    PT2_Desc VARCHAR(500) NOT NULL,\n",
    "    CONSTRAINT fk_OwnerID FOREIGN KEY (OwnerID) REFERENCES CW2.[User](UserID),\n",
    "    \n",
    "    CHECK (RouteType IN ('Loop', 'Out and Back', 'Point to Point')),\n",
    "    CHECK (Difficulty IN ('Easy', 'Moderate', 'Hard')),\n",
    "    CHECK (Length > 0),\n",
    "    CHECK (ElevationGain > 0),\n",
    "    CHECK (PT1_Lat BETWEEN -90 AND 90),\n",
    "    CHECK (PT1_Long BETWEEN -180 AND 180),\n",
    "    CHECK (PT2_Lat BETWEEN -90 AND 90),\n",
    "    CHECK (PT2_Long BETWEEN -180 AND 180)\n",
    ");\n",
    "''')\n",
    "conn.commit()"
   ]
  },
  {
   "cell_type": "code",
   "execution_count": 50,
   "metadata": {},
   "outputs": [],
   "source": [
    "cursor.execute('''INSERT INTO CW2.Trail (\n",
    "    TrailName, Length, Difficulty, TrailDescription, TrailSummary, \n",
    "    Location, RouteType, ElevationGain, OwnerID, \n",
    "    PT1_Lat, PT1_Long, PT1_Desc, PT2_Lat, PT2_Long, PT2_Desc\n",
    ")\n",
    "VALUES \n",
    "('Sunset Loop', 5.2, 'Moderate', \n",
    " 'A scenic trail with breathtaking sunset views, lush greenery, and diverse wildlife.', \n",
    " 'An enjoyable hike with moderate elevation changes.', \n",
    " 'Springfield National Park', 'Loop', 450, 1, \n",
    " 34.0522, -118.2437, 'Trailhead at the main entrance.', \n",
    " 34.0482, -118.2507, 'Final viewpoint with sunset visibility.'),\n",
    "\n",
    "('Mountain Ascent', 8.7, 'Hard', \n",
    " 'A challenging ascent with rocky terrain leading to panoramic mountain vistas.', \n",
    " 'Ideal for seasoned hikers seeking adventure.', \n",
    " 'Rocky Ridge Trail System', 'Out and Back', 1200, 2, \n",
    " 39.7392, -104.9903, 'Trail starts near the parking lot.', \n",
    " 39.7465, -104.9856, 'Summit with panoramic views.'),\n",
    "\n",
    "('Riverbank Stroll', 3.5, 'Easy', \n",
    " 'A relaxing trail along a gently flowing river, perfect for families and beginners.', \n",
    " 'Flat and easy terrain with plenty of picnic spots.', \n",
    " 'Meadow Creek Preserve', 'Point to Point', 50, 3, \n",
    " 40.7128, -74.0060, 'Starting point near the visitor center.', \n",
    " 40.7180, -74.0025, 'Ending at the riverside pavilion.'),\n",
    "\n",
    "('Forest Trek', 6.0, 'Moderate', \n",
    " 'A shaded trail through dense forest with a beautiful waterfall midway.', \n",
    " 'Great for a half-day adventure with nature.', \n",
    " 'Cedarwood Forest Reserve', 'Loop', 600, 3, \n",
    " 45.5231, -122.6765, 'Entrance at the main gate.', \n",
    " 45.5302, -122.6847, 'Waterfall area and rest stop.'),\n",
    "\n",
    "('Desert Trail Adventure', 10.5, 'Hard', \n",
    " 'A rugged trail through desert landscapes, featuring unique rock formations and open skies.', \n",
    " 'Long and challenging but rewarding for experienced hikers.', \n",
    " 'Red Rock Desert Trails', 'Out and Back', 900, 2, \n",
    " 36.1699, -115.1398, 'Trailhead at the southern entrance.', \n",
    " 36.1592, -115.1425, 'End point near the canyon ridge.')\n",
    ";\n",
    "''')\n",
    "conn.commit()\n"
   ]
  },
  {
   "cell_type": "code",
   "execution_count": 58,
   "metadata": {},
   "outputs": [
    {
     "name": "stdout",
     "output_type": "stream",
     "text": [
      "(1, 'Sunset Loop', 5.2, 'Moderate', 'A scenic trail with breathtaking sunset views, lush greenery, and diverse wildlife.', 'An enjoyable hike with moderate elevation changes.', 'Springfield National Park', 'Loop', 450, 1, 34.0522, -118.2437, 'Trailhead at the main entrance.', 34.0482, -118.2507, 'Final viewpoint with sunset visibility.')\n",
      "(2, 'Mountain Ascent', 8.7, 'Hard', 'A challenging ascent with rocky terrain leading to panoramic mountain vistas.', 'Ideal for seasoned hikers seeking adventure.', 'Rocky Ridge Trail System', 'Out and Back', 1200, 2, 39.7392, -104.9903, 'Trail starts near the parking lot.', 39.7465, -104.9856, 'Summit with panoramic views.')\n",
      "(3, 'WALK back stroll', 5.5, 'Easy', 'a stroll innit', 'steep and hard to climb', 'Wild live preserve', 'Loop', 70, 3, 50.1234, -20.5464, 'ENDS NEAR A RIVER', 50.7676, -43.545, 'ENDS NEAR A RIVER')\n",
      "(4, 'Forest Trek', 6.0, 'Moderate', 'A shaded trail through dense forest with a beautiful waterfall midway.', 'Great for a half-day adventure with nature.', 'Cedarwood Forest Reserve', 'Loop', 600, 3, 45.5231, -122.6765, 'Entrance at the main gate.', 45.5302, -122.6847, 'Waterfall area and rest stop.')\n",
      "(5, 'Desert Trail Adventure', 10.5, 'Hard', 'A rugged trail through desert landscapes, featuring unique rock formations and open skies.', 'Long and challenging but rewarding for experienced hikers.', 'Red Rock Desert Trails', 'Out and Back', 900, 2, 36.1699, -115.1398, 'Trailhead at the southern entrance.', 36.1592, -115.1425, 'End point near the canyon ridge.')\n"
     ]
    }
   ],
   "source": [
    "cursor.execute(\"SELECT * FROM CW2.Trail\")\n",
    "\n",
    "trail = cursor.fetchall()\n",
    "for trails in trail:\n",
    "    print(trails)"
   ]
  },
  {
   "cell_type": "code",
   "execution_count": 45,
   "metadata": {},
   "outputs": [],
   "source": [
    "cursor.execute(''' \n",
    "CREATE TABLE CW2.Feature(\n",
    "    FeatureID INT IDENTITY(1,1) PRIMARY KEY,\n",
    "    FeatureName VARCHAR(50) NOT NULL\n",
    ")\n",
    "''')\n",
    "conn.commit()\n"
   ]
  },
  {
   "cell_type": "code",
   "execution_count": 46,
   "metadata": {},
   "outputs": [],
   "source": [
    "cursor.execute(''' \n",
    "    INSERT INTO CW2.Feature(FeatureName)\n",
    "    VALUES\n",
    "    ('Waterfall'),\n",
    "    ('Cave'),\n",
    "    ('Wildlife'),\n",
    "    ('Scenic View'),\n",
    "    ('Historical Site'),\n",
    "    ('Creek'),\n",
    "    ('Rock Formation'),\n",
    "    ('Meadow'),\n",
    "    ('Forest')\n",
    "\n",
    "\n",
    "\n",
    "''')\n",
    "conn.commit()"
   ]
  },
  {
   "cell_type": "code",
   "execution_count": 47,
   "metadata": {},
   "outputs": [
    {
     "name": "stdout",
     "output_type": "stream",
     "text": [
      "(1, 'Waterfall')\n",
      "(2, 'Cave')\n",
      "(3, 'Wildlife')\n",
      "(4, 'Scenic View')\n",
      "(5, 'Historical Site')\n",
      "(6, 'Creek')\n",
      "(7, 'Rock Formation')\n",
      "(8, 'Meadow')\n",
      "(9, 'Forest')\n"
     ]
    }
   ],
   "source": [
    "cursor.execute(\"SELECT * FROM CW2.feature\")\n",
    "\n",
    "feature = cursor.fetchall()\n",
    "for features in feature:\n",
    "    print(features)\n"
   ]
  },
  {
   "cell_type": "code",
   "execution_count": 52,
   "metadata": {},
   "outputs": [],
   "source": [
    "cursor.execute(''' \n",
    "CREATE TABLE CW2.TrailFeature(\n",
    "    TrailID INT NOT NULL,\n",
    "    TrailFeatureID INT NOT NULL,\n",
    "    CONSTRAINT fk_TrailID FOREIGN KEY (TrailID) REFERENCES CW2.Trail(TrailID),\n",
    "    CONSTRAINT fk_TrailFeatureID FOREIGN KEY (TrailFeatureID) REFERENCES CW2.Feature(FeatureID)\n",
    ")\n",
    "''')\n",
    "conn.commit()\n"
   ]
  },
  {
   "cell_type": "code",
   "execution_count": 59,
   "metadata": {},
   "outputs": [
    {
     "name": "stdout",
     "output_type": "stream",
     "text": [
      "(1, 4)\n",
      "(1, 7)\n",
      "(2, 4)\n",
      "(2, 8)\n",
      "(3, 9)\n",
      "(3, 7)\n",
      "(4, 1)\n",
      "(4, 4)\n",
      "(5, 1)\n",
      "(5, 2)\n",
      "(4, 3)\n",
      "(5, 7)\n"
     ]
    }
   ],
   "source": [
    "cursor.execute(\"SELECT * FROM CW2.TrailFeature\")\n",
    "\n",
    "TrailFeature = cursor.fetchall()\n",
    "for Trailfeature in TrailFeature:\n",
    "    print(Trailfeature)\n"
   ]
  },
  {
   "cell_type": "code",
   "execution_count": 53,
   "metadata": {},
   "outputs": [],
   "source": [
    "cursor.execute(''' \n",
    "INSERT INTO CW2.TrailFeature(TrailID, TrailFeatureID)\n",
    "VALUES\n",
    "(1, 4),\n",
    "(1, 7),\n",
    "(2, 4),\n",
    "(2, 8),\n",
    "(3, 9),\n",
    "(3, 7),\n",
    "(4, 1),\n",
    "(4, 4),\n",
    "(5, 1),\n",
    "(5, 2),\n",
    "(4, 3),\n",
    "(5, 7)\n",
    "''')\n",
    "conn.commit()"
   ]
  },
  {
   "cell_type": "code",
   "execution_count": 40,
   "metadata": {},
   "outputs": [
    {
     "ename": "ProgrammingError",
     "evalue": "('42S02', \"[42S02] [Microsoft][ODBC Driver 17 for SQL Server][SQL Server]Cannot drop the table 'CW2.TrailFeature', because it does not exist or you do not have permission. (3701) (SQLExecDirectW)\")",
     "output_type": "error",
     "traceback": [
      "\u001b[1;31m---------------------------------------------------------------------------\u001b[0m",
      "\u001b[1;31mProgrammingError\u001b[0m                          Traceback (most recent call last)",
      "Cell \u001b[1;32mIn[40], line 1\u001b[0m\n\u001b[1;32m----> 1\u001b[0m \u001b[43mcursor\u001b[49m\u001b[38;5;241;43m.\u001b[39;49m\u001b[43mexecute\u001b[49m\u001b[43m(\u001b[49m\u001b[38;5;124;43m'''\u001b[39;49m\u001b[38;5;124;43m \u001b[39;49m\n\u001b[0;32m      2\u001b[0m \u001b[38;5;124;43mDROP TABLE CW2.TrailFeature\u001b[39;49m\n\u001b[0;32m      3\u001b[0m \n\u001b[0;32m      4\u001b[0m \u001b[38;5;124;43m'''\u001b[39;49m\u001b[43m)\u001b[49m\n\u001b[0;32m      5\u001b[0m conn\u001b[38;5;241m.\u001b[39mcommit()\n",
      "\u001b[1;31mProgrammingError\u001b[0m: ('42S02', \"[42S02] [Microsoft][ODBC Driver 17 for SQL Server][SQL Server]Cannot drop the table 'CW2.TrailFeature', because it does not exist or you do not have permission. (3701) (SQLExecDirectW)\")"
     ]
    }
   ],
   "source": [
    "cursor.execute(''' \n",
    "DROP TABLE CW2.TrailFeature\n",
    "\n",
    "''')\n",
    "conn.commit()"
   ]
  },
  {
   "cell_type": "code",
   "execution_count": 39,
   "metadata": {},
   "outputs": [
    {
     "ename": "ProgrammingError",
     "evalue": "('42S02', \"[42S02] [Microsoft][ODBC Driver 17 for SQL Server][SQL Server]Cannot drop the table 'CW2.Trail', because it does not exist or you do not have permission. (3701) (SQLExecDirectW)\")",
     "output_type": "error",
     "traceback": [
      "\u001b[1;31m---------------------------------------------------------------------------\u001b[0m",
      "\u001b[1;31mProgrammingError\u001b[0m                          Traceback (most recent call last)",
      "Cell \u001b[1;32mIn[39], line 1\u001b[0m\n\u001b[1;32m----> 1\u001b[0m \u001b[43mcursor\u001b[49m\u001b[38;5;241;43m.\u001b[39;49m\u001b[43mexecute\u001b[49m\u001b[43m(\u001b[49m\u001b[38;5;124;43m'''\u001b[39;49m\u001b[38;5;124;43m \u001b[39;49m\n\u001b[0;32m      2\u001b[0m \u001b[38;5;124;43mDROP TABLE CW2.Trail\u001b[39;49m\n\u001b[0;32m      3\u001b[0m \n\u001b[0;32m      4\u001b[0m \u001b[38;5;124;43m'''\u001b[39;49m\u001b[43m)\u001b[49m\n\u001b[0;32m      5\u001b[0m conn\u001b[38;5;241m.\u001b[39mcommit()\n",
      "\u001b[1;31mProgrammingError\u001b[0m: ('42S02', \"[42S02] [Microsoft][ODBC Driver 17 for SQL Server][SQL Server]Cannot drop the table 'CW2.Trail', because it does not exist or you do not have permission. (3701) (SQLExecDirectW)\")"
     ]
    }
   ],
   "source": [
    "cursor.execute(''' \n",
    "DROP TABLE CW2.Trail\n",
    "\n",
    "''')\n",
    "conn.commit()"
   ]
  },
  {
   "cell_type": "code",
   "execution_count": 37,
   "metadata": {},
   "outputs": [],
   "source": [
    "cursor.execute(''' \n",
    "DROP TABLE CW2.[User]\n",
    "\n",
    "''')\n",
    "conn.commit()"
   ]
  },
  {
   "cell_type": "code",
   "execution_count": 38,
   "metadata": {},
   "outputs": [],
   "source": [
    "cursor.execute(''' \n",
    "DROP TABLE CW2.Feature\n",
    "\n",
    "''')\n",
    "conn.commit()"
   ]
  }
 ],
 "metadata": {
  "kernelspec": {
   "display_name": "Python 3",
   "language": "python",
   "name": "python3"
  },
  "language_info": {
   "codemirror_mode": {
    "name": "ipython",
    "version": 3
   },
   "file_extension": ".py",
   "mimetype": "text/x-python",
   "name": "python",
   "nbconvert_exporter": "python",
   "pygments_lexer": "ipython3",
   "version": "3.10.11"
  }
 },
 "nbformat": 4,
 "nbformat_minor": 2
}
